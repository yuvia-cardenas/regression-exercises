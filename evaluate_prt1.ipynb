{
 "cells": [
  {
   "cell_type": "code",
   "execution_count": 1,
   "id": "ebd794b9",
   "metadata": {},
   "outputs": [],
   "source": [
    "import pandas as pd\n",
    "import numpy as np\n",
    "import os\n",
    "import env\n",
    "\n",
    "import reg_wrangle as rw\n",
    "\n",
    "\n",
    "from sklearn.preprocessing import MinMaxScaler, StandardScaler, RobustScaler, QuantileTransformer\n",
    "from sklearn.linear_model import LinearRegression\n",
    "import warnings\n",
    "warnings.filterwarnings(\"ignore\")\n",
    "\n",
    "from scipy import stats\n",
    "from sklearn.metrics import mean_squared_error, r2_score, explained_variance_score\n",
    "\n",
    "\n",
    "from sklearn.feature_selection import f_regression \n",
    "from math import sqrt\n",
    "import matplotlib.pyplot as plt\n",
    "\n",
    "import seaborn as sns"
   ]
  },
  {
   "cell_type": "code",
   "execution_count": 2,
   "id": "6aa506ad",
   "metadata": {},
   "outputs": [],
   "source": [
    "train, validate, test, train_scaled, validate_scaled, test_scaled = rw.wrangle_zillow()"
   ]
  },
  {
   "cell_type": "code",
   "execution_count": 3,
   "id": "54481b35",
   "metadata": {},
   "outputs": [
    {
     "data": {
      "text/html": [
       "<div>\n",
       "<style scoped>\n",
       "    .dataframe tbody tr th:only-of-type {\n",
       "        vertical-align: middle;\n",
       "    }\n",
       "\n",
       "    .dataframe tbody tr th {\n",
       "        vertical-align: top;\n",
       "    }\n",
       "\n",
       "    .dataframe thead th {\n",
       "        text-align: right;\n",
       "    }\n",
       "</style>\n",
       "<table border=\"1\" class=\"dataframe\">\n",
       "  <thead>\n",
       "    <tr style=\"text-align: right;\">\n",
       "      <th></th>\n",
       "      <th>bed_rooms</th>\n",
       "      <th>bath_rooms</th>\n",
       "      <th>finished_sqft</th>\n",
       "      <th>tax_val_dollar_count</th>\n",
       "      <th>year_built</th>\n",
       "      <th>tax_amt</th>\n",
       "      <th>fips</th>\n",
       "    </tr>\n",
       "  </thead>\n",
       "  <tbody>\n",
       "    <tr>\n",
       "      <th>666455</th>\n",
       "      <td>3</td>\n",
       "      <td>3.0</td>\n",
       "      <td>1620</td>\n",
       "      <td>241434</td>\n",
       "      <td>1989</td>\n",
       "      <td>2251.46</td>\n",
       "      <td>6059</td>\n",
       "    </tr>\n",
       "    <tr>\n",
       "      <th>1783637</th>\n",
       "      <td>3</td>\n",
       "      <td>1.0</td>\n",
       "      <td>1557</td>\n",
       "      <td>280212</td>\n",
       "      <td>1948</td>\n",
       "      <td>4274.29</td>\n",
       "      <td>6037</td>\n",
       "    </tr>\n",
       "    <tr>\n",
       "      <th>1250454</th>\n",
       "      <td>3</td>\n",
       "      <td>2.0</td>\n",
       "      <td>1512</td>\n",
       "      <td>335993</td>\n",
       "      <td>1965</td>\n",
       "      <td>4238.40</td>\n",
       "      <td>6037</td>\n",
       "    </tr>\n",
       "    <tr>\n",
       "      <th>800277</th>\n",
       "      <td>2</td>\n",
       "      <td>4.0</td>\n",
       "      <td>1932</td>\n",
       "      <td>63740</td>\n",
       "      <td>1939</td>\n",
       "      <td>973.80</td>\n",
       "      <td>6037</td>\n",
       "    </tr>\n",
       "    <tr>\n",
       "      <th>1382185</th>\n",
       "      <td>3</td>\n",
       "      <td>2.0</td>\n",
       "      <td>1411</td>\n",
       "      <td>282027</td>\n",
       "      <td>1965</td>\n",
       "      <td>3548.28</td>\n",
       "      <td>6037</td>\n",
       "    </tr>\n",
       "  </tbody>\n",
       "</table>\n",
       "</div>"
      ],
      "text/plain": [
       "         bed_rooms  bath_rooms  finished_sqft  tax_val_dollar_count  \\\n",
       "666455           3         3.0           1620                241434   \n",
       "1783637          3         1.0           1557                280212   \n",
       "1250454          3         2.0           1512                335993   \n",
       "800277           2         4.0           1932                 63740   \n",
       "1382185          3         2.0           1411                282027   \n",
       "\n",
       "         year_built  tax_amt  fips  \n",
       "666455         1989  2251.46  6059  \n",
       "1783637        1948  4274.29  6037  \n",
       "1250454        1965  4238.40  6037  \n",
       "800277         1939   973.80  6037  \n",
       "1382185        1965  3548.28  6037  "
      ]
     },
     "execution_count": 3,
     "metadata": {},
     "output_type": "execute_result"
    }
   ],
   "source": [
    "train.head()"
   ]
  },
  {
   "cell_type": "code",
   "execution_count": 4,
   "id": "d038fcf0",
   "metadata": {},
   "outputs": [],
   "source": [
    "# must make it a dataframe can not take in a series \n",
    "# read it as series if it is only one column\n",
    "\n",
    "\n",
    "\n",
    "x_train = train[['finished_sqft']]\n",
    "y_train = train.tax_val_dollar_count"
   ]
  },
  {
   "cell_type": "code",
   "execution_count": 5,
   "id": "13f758ab",
   "metadata": {},
   "outputs": [
    {
     "data": {
      "image/png": "[encoded data removed]",
      "text/plain": [
       "<Figure size 432x288 with 1 Axes>"
      ]
     },
     "metadata": {
      "needs_background": "light"
     },
     "output_type": "display_data"
    }
   ],
   "source": [
    "# look at scatter of x vs y\n",
    "plt.scatter(x_train, y_train)\n",
    "\n",
    "plt.xlabel('x = finished_sqft')\n",
    "plt.ylabel('y = taxValue$count')\n",
    "plt.show()"
   ]
  },
  {
   "cell_type": "code",
   "execution_count": 6,
   "id": "26a118e8",
   "metadata": {},
   "outputs": [],
   "source": [
    "from sklearn.linear_model import LinearRegression\n",
    "# generate parameters, i.e. create model\n",
    "# ols_model = LinearRegression().fit(df[['x']], df.y)\n",
    "\n",
    "# compute predictions and add to original dataframe\n",
    "# df['yhat'] = ols_model.predict(df[['x']])\n",
    "\n",
    "# assuming X and y are already defined\n",
    "model = LinearRegression().fit(x_train, y_train)\n",
    "train['yhat'] = model.predict(x_train)"
   ]
  },
  {
   "cell_type": "code",
   "execution_count": 7,
   "id": "c242460d",
   "metadata": {},
   "outputs": [
    {
     "data": {
      "text/html": [
       "<div>\n",
       "<style scoped>\n",
       "    .dataframe tbody tr th:only-of-type {\n",
       "        vertical-align: middle;\n",
       "    }\n",
       "\n",
       "    .dataframe tbody tr th {\n",
       "        vertical-align: top;\n",
       "    }\n",
       "\n",
       "    .dataframe thead th {\n",
       "        text-align: right;\n",
       "    }\n",
       "</style>\n",
       "<table border=\"1\" class=\"dataframe\">\n",
       "  <thead>\n",
       "    <tr style=\"text-align: right;\">\n",
       "      <th></th>\n",
       "      <th>bed_rooms</th>\n",
       "      <th>bath_rooms</th>\n",
       "      <th>finished_sqft</th>\n",
       "      <th>tax_val_dollar_count</th>\n",
       "      <th>year_built</th>\n",
       "      <th>tax_amt</th>\n",
       "      <th>fips</th>\n",
       "      <th>yhat</th>\n",
       "    </tr>\n",
       "  </thead>\n",
       "  <tbody>\n",
       "    <tr>\n",
       "      <th>666455</th>\n",
       "      <td>3</td>\n",
       "      <td>3.0</td>\n",
       "      <td>1620</td>\n",
       "      <td>241434</td>\n",
       "      <td>1989</td>\n",
       "      <td>2251.46</td>\n",
       "      <td>6059</td>\n",
       "      <td>264248.479798</td>\n",
       "    </tr>\n",
       "    <tr>\n",
       "      <th>1783637</th>\n",
       "      <td>3</td>\n",
       "      <td>1.0</td>\n",
       "      <td>1557</td>\n",
       "      <td>280212</td>\n",
       "      <td>1948</td>\n",
       "      <td>4274.29</td>\n",
       "      <td>6037</td>\n",
       "      <td>260075.615063</td>\n",
       "    </tr>\n",
       "    <tr>\n",
       "      <th>1250454</th>\n",
       "      <td>3</td>\n",
       "      <td>2.0</td>\n",
       "      <td>1512</td>\n",
       "      <td>335993</td>\n",
       "      <td>1965</td>\n",
       "      <td>4238.40</td>\n",
       "      <td>6037</td>\n",
       "      <td>257094.997395</td>\n",
       "    </tr>\n",
       "    <tr>\n",
       "      <th>800277</th>\n",
       "      <td>2</td>\n",
       "      <td>4.0</td>\n",
       "      <td>1932</td>\n",
       "      <td>63740</td>\n",
       "      <td>1939</td>\n",
       "      <td>973.80</td>\n",
       "      <td>6037</td>\n",
       "      <td>284914.095630</td>\n",
       "    </tr>\n",
       "    <tr>\n",
       "      <th>1382185</th>\n",
       "      <td>3</td>\n",
       "      <td>2.0</td>\n",
       "      <td>1411</td>\n",
       "      <td>282027</td>\n",
       "      <td>1965</td>\n",
       "      <td>3548.28</td>\n",
       "      <td>6037</td>\n",
       "      <td>250405.166629</td>\n",
       "    </tr>\n",
       "  </tbody>\n",
       "</table>\n",
       "</div>"
      ],
      "text/plain": [
       "         bed_rooms  bath_rooms  finished_sqft  tax_val_dollar_count  \\\n",
       "666455           3         3.0           1620                241434   \n",
       "1783637          3         1.0           1557                280212   \n",
       "1250454          3         2.0           1512                335993   \n",
       "800277           2         4.0           1932                 63740   \n",
       "1382185          3         2.0           1411                282027   \n",
       "\n",
       "         year_built  tax_amt  fips           yhat  \n",
       "666455         1989  2251.46  6059  264248.479798  \n",
       "1783637        1948  4274.29  6037  260075.615063  \n",
       "1250454        1965  4238.40  6037  257094.997395  \n",
       "800277         1939   973.80  6037  284914.095630  \n",
       "1382185        1965  3548.28  6037  250405.166629  "
      ]
     },
     "execution_count": 7,
     "metadata": {},
     "output_type": "execute_result"
    }
   ],
   "source": [
    "train.head()"
   ]
  },
  {
   "cell_type": "code",
   "execution_count": 8,
   "id": "efed3abd",
   "metadata": {},
   "outputs": [],
   "source": [
    "train['yhat_baseline'] = y_train.mean()\n",
    "\n"
   ]
  },
  {
   "cell_type": "code",
   "execution_count": 9,
   "id": "d02a2490",
   "metadata": {},
   "outputs": [
    {
     "data": {
      "image/png": "[encoded data removed]",
      "text/plain": [
       "<Figure size 432x288 with 1 Axes>"
      ]
     },
     "metadata": {
      "needs_background": "light"
     },
     "output_type": "display_data"
    }
   ],
   "source": [
    "# plot data with baseline:\n",
    "plt.scatter(x_train, y_train)\n",
    "plt.axhline(y_train.mean(), ls=':')\n",
    "\n",
    "plt.xlabel('x = finished_sqft')\n",
    "plt.ylabel('y = taxValue$count')\n",
    "plt.title('baseline model')\n",
    "plt.show()"
   ]
  },
  {
   "cell_type": "code",
   "execution_count": 10,
   "id": "c1b5679a",
   "metadata": {},
   "outputs": [
    {
     "data": {
      "text/html": [
       "<div>\n",
       "<style scoped>\n",
       "    .dataframe tbody tr th:only-of-type {\n",
       "        vertical-align: middle;\n",
       "    }\n",
       "\n",
       "    .dataframe tbody tr th {\n",
       "        vertical-align: top;\n",
       "    }\n",
       "\n",
       "    .dataframe thead th {\n",
       "        text-align: right;\n",
       "    }\n",
       "</style>\n",
       "<table border=\"1\" class=\"dataframe\">\n",
       "  <thead>\n",
       "    <tr style=\"text-align: right;\">\n",
       "      <th></th>\n",
       "      <th>bed_rooms</th>\n",
       "      <th>bath_rooms</th>\n",
       "      <th>finished_sqft</th>\n",
       "      <th>tax_val_dollar_count</th>\n",
       "      <th>year_built</th>\n",
       "      <th>tax_amt</th>\n",
       "      <th>fips</th>\n",
       "      <th>yhat</th>\n",
       "      <th>yhat_baseline</th>\n",
       "    </tr>\n",
       "  </thead>\n",
       "  <tbody>\n",
       "    <tr>\n",
       "      <th>666455</th>\n",
       "      <td>3</td>\n",
       "      <td>3.0</td>\n",
       "      <td>1620</td>\n",
       "      <td>241434</td>\n",
       "      <td>1989</td>\n",
       "      <td>2251.46</td>\n",
       "      <td>6059</td>\n",
       "      <td>264248.479798</td>\n",
       "      <td>261827.410386</td>\n",
       "    </tr>\n",
       "    <tr>\n",
       "      <th>1783637</th>\n",
       "      <td>3</td>\n",
       "      <td>1.0</td>\n",
       "      <td>1557</td>\n",
       "      <td>280212</td>\n",
       "      <td>1948</td>\n",
       "      <td>4274.29</td>\n",
       "      <td>6037</td>\n",
       "      <td>260075.615063</td>\n",
       "      <td>261827.410386</td>\n",
       "    </tr>\n",
       "    <tr>\n",
       "      <th>1250454</th>\n",
       "      <td>3</td>\n",
       "      <td>2.0</td>\n",
       "      <td>1512</td>\n",
       "      <td>335993</td>\n",
       "      <td>1965</td>\n",
       "      <td>4238.40</td>\n",
       "      <td>6037</td>\n",
       "      <td>257094.997395</td>\n",
       "      <td>261827.410386</td>\n",
       "    </tr>\n",
       "    <tr>\n",
       "      <th>800277</th>\n",
       "      <td>2</td>\n",
       "      <td>4.0</td>\n",
       "      <td>1932</td>\n",
       "      <td>63740</td>\n",
       "      <td>1939</td>\n",
       "      <td>973.80</td>\n",
       "      <td>6037</td>\n",
       "      <td>284914.095630</td>\n",
       "      <td>261827.410386</td>\n",
       "    </tr>\n",
       "    <tr>\n",
       "      <th>1382185</th>\n",
       "      <td>3</td>\n",
       "      <td>2.0</td>\n",
       "      <td>1411</td>\n",
       "      <td>282027</td>\n",
       "      <td>1965</td>\n",
       "      <td>3548.28</td>\n",
       "      <td>6037</td>\n",
       "      <td>250405.166629</td>\n",
       "      <td>261827.410386</td>\n",
       "    </tr>\n",
       "  </tbody>\n",
       "</table>\n",
       "</div>"
      ],
      "text/plain": [
       "         bed_rooms  bath_rooms  finished_sqft  tax_val_dollar_count  \\\n",
       "666455           3         3.0           1620                241434   \n",
       "1783637          3         1.0           1557                280212   \n",
       "1250454          3         2.0           1512                335993   \n",
       "800277           2         4.0           1932                 63740   \n",
       "1382185          3         2.0           1411                282027   \n",
       "\n",
       "         year_built  tax_amt  fips           yhat  yhat_baseline  \n",
       "666455         1989  2251.46  6059  264248.479798  261827.410386  \n",
       "1783637        1948  4274.29  6037  260075.615063  261827.410386  \n",
       "1250454        1965  4238.40  6037  257094.997395  261827.410386  \n",
       "800277         1939   973.80  6037  284914.095630  261827.410386  \n",
       "1382185        1965  3548.28  6037  250405.166629  261827.410386  "
      ]
     },
     "execution_count": 10,
     "metadata": {},
     "output_type": "execute_result"
    }
   ],
   "source": [
    "train.head()"
   ]
  },
  {
   "cell_type": "code",
   "execution_count": 11,
   "id": "51366541",
   "metadata": {},
   "outputs": [],
   "source": [
    "#### Curric\n",
    "# compute residuals\n",
    "#df['residual'] = df['yhat'] - df['y']\n",
    "#df['residual_baseline'] = df['yhat_baseline'] - df['y']\n",
    "\n",
    "train['residual'] = y_train - train['yhat']\n",
    "train['residual_baseline'] = y_train - train['yhat_baseline']\n"
   ]
  },
  {
   "cell_type": "code",
   "execution_count": 12,
   "id": "9be5812a",
   "metadata": {},
   "outputs": [
    {
     "data": {
      "image/png": "[encoded data removed]",
      "text/plain": [
       "<Figure size 432x288 with 1 Axes>"
      ]
     },
     "metadata": {
      "needs_background": "light"
     },
     "output_type": "display_data"
    }
   ],
   "source": [
    "plt.scatter(y_train, train['residual'])\n",
    "plt.show()"
   ]
  },
  {
   "cell_type": "code",
   "execution_count": 13,
   "id": "18c23705",
   "metadata": {},
   "outputs": [
    {
     "data": {
      "text/html": [
       "<div>\n",
       "<style scoped>\n",
       "    .dataframe tbody tr th:only-of-type {\n",
       "        vertical-align: middle;\n",
       "    }\n",
       "\n",
       "    .dataframe tbody tr th {\n",
       "        vertical-align: top;\n",
       "    }\n",
       "\n",
       "    .dataframe thead th {\n",
       "        text-align: right;\n",
       "    }\n",
       "</style>\n",
       "<table border=\"1\" class=\"dataframe\">\n",
       "  <thead>\n",
       "    <tr style=\"text-align: right;\">\n",
       "      <th></th>\n",
       "      <th>bed_rooms</th>\n",
       "      <th>bath_rooms</th>\n",
       "      <th>finished_sqft</th>\n",
       "      <th>tax_val_dollar_count</th>\n",
       "      <th>year_built</th>\n",
       "      <th>tax_amt</th>\n",
       "      <th>fips</th>\n",
       "      <th>yhat</th>\n",
       "      <th>yhat_baseline</th>\n",
       "      <th>residual</th>\n",
       "      <th>residual_baseline</th>\n",
       "    </tr>\n",
       "  </thead>\n",
       "  <tbody>\n",
       "    <tr>\n",
       "      <th>666455</th>\n",
       "      <td>3</td>\n",
       "      <td>3.0</td>\n",
       "      <td>1620</td>\n",
       "      <td>241434</td>\n",
       "      <td>1989</td>\n",
       "      <td>2251.46</td>\n",
       "      <td>6059</td>\n",
       "      <td>264248.479798</td>\n",
       "      <td>261827.410386</td>\n",
       "      <td>-22814.479798</td>\n",
       "      <td>-20393.410386</td>\n",
       "    </tr>\n",
       "    <tr>\n",
       "      <th>1783637</th>\n",
       "      <td>3</td>\n",
       "      <td>1.0</td>\n",
       "      <td>1557</td>\n",
       "      <td>280212</td>\n",
       "      <td>1948</td>\n",
       "      <td>4274.29</td>\n",
       "      <td>6037</td>\n",
       "      <td>260075.615063</td>\n",
       "      <td>261827.410386</td>\n",
       "      <td>20136.384937</td>\n",
       "      <td>18384.589614</td>\n",
       "    </tr>\n",
       "    <tr>\n",
       "      <th>1250454</th>\n",
       "      <td>3</td>\n",
       "      <td>2.0</td>\n",
       "      <td>1512</td>\n",
       "      <td>335993</td>\n",
       "      <td>1965</td>\n",
       "      <td>4238.40</td>\n",
       "      <td>6037</td>\n",
       "      <td>257094.997395</td>\n",
       "      <td>261827.410386</td>\n",
       "      <td>78898.002605</td>\n",
       "      <td>74165.589614</td>\n",
       "    </tr>\n",
       "    <tr>\n",
       "      <th>800277</th>\n",
       "      <td>2</td>\n",
       "      <td>4.0</td>\n",
       "      <td>1932</td>\n",
       "      <td>63740</td>\n",
       "      <td>1939</td>\n",
       "      <td>973.80</td>\n",
       "      <td>6037</td>\n",
       "      <td>284914.095630</td>\n",
       "      <td>261827.410386</td>\n",
       "      <td>-221174.095630</td>\n",
       "      <td>-198087.410386</td>\n",
       "    </tr>\n",
       "    <tr>\n",
       "      <th>1382185</th>\n",
       "      <td>3</td>\n",
       "      <td>2.0</td>\n",
       "      <td>1411</td>\n",
       "      <td>282027</td>\n",
       "      <td>1965</td>\n",
       "      <td>3548.28</td>\n",
       "      <td>6037</td>\n",
       "      <td>250405.166629</td>\n",
       "      <td>261827.410386</td>\n",
       "      <td>31621.833371</td>\n",
       "      <td>20199.589614</td>\n",
       "    </tr>\n",
       "  </tbody>\n",
       "</table>\n",
       "</div>"
      ],
      "text/plain": [
       "         bed_rooms  bath_rooms  finished_sqft  tax_val_dollar_count  \\\n",
       "666455           3         3.0           1620                241434   \n",
       "1783637          3         1.0           1557                280212   \n",
       "1250454          3         2.0           1512                335993   \n",
       "800277           2         4.0           1932                 63740   \n",
       "1382185          3         2.0           1411                282027   \n",
       "\n",
       "         year_built  tax_amt  fips           yhat  yhat_baseline  \\\n",
       "666455         1989  2251.46  6059  264248.479798  261827.410386   \n",
       "1783637        1948  4274.29  6037  260075.615063  261827.410386   \n",
       "1250454        1965  4238.40  6037  257094.997395  261827.410386   \n",
       "800277         1939   973.80  6037  284914.095630  261827.410386   \n",
       "1382185        1965  3548.28  6037  250405.166629  261827.410386   \n",
       "\n",
       "              residual  residual_baseline  \n",
       "666455   -22814.479798      -20393.410386  \n",
       "1783637   20136.384937       18384.589614  \n",
       "1250454   78898.002605       74165.589614  \n",
       "800277  -221174.095630     -198087.410386  \n",
       "1382185   31621.833371       20199.589614  "
      ]
     },
     "execution_count": 13,
     "metadata": {},
     "output_type": "execute_result"
    }
   ],
   "source": [
    "train.head()"
   ]
  },
  {
   "cell_type": "code",
   "execution_count": 14,
   "id": "76deebfb",
   "metadata": {},
   "outputs": [],
   "source": [
    "####  Lesson\n",
    "# residual = actual - predicted  \n",
    "# baseline is taking actual minus baseline\n",
    "#df['baseline_residual'] = df.y - df.baseline\n",
    "# residual is taking actual minus what we predicted\n",
    "#df['residual'] = df.y - df.yhat\n"
   ]
  },
  {
   "cell_type": "code",
   "execution_count": 15,
   "id": "e0ab0372",
   "metadata": {},
   "outputs": [
    {
     "data": {
      "text/html": [
       "<div>\n",
       "<style scoped>\n",
       "    .dataframe tbody tr th:only-of-type {\n",
       "        vertical-align: middle;\n",
       "    }\n",
       "\n",
       "    .dataframe tbody tr th {\n",
       "        vertical-align: top;\n",
       "    }\n",
       "\n",
       "    .dataframe thead th {\n",
       "        text-align: right;\n",
       "    }\n",
       "</style>\n",
       "<table border=\"1\" class=\"dataframe\">\n",
       "  <thead>\n",
       "    <tr style=\"text-align: right;\">\n",
       "      <th></th>\n",
       "      <th>bed_rooms</th>\n",
       "      <th>bath_rooms</th>\n",
       "      <th>finished_sqft</th>\n",
       "      <th>tax_val_dollar_count</th>\n",
       "      <th>year_built</th>\n",
       "      <th>tax_amt</th>\n",
       "      <th>fips</th>\n",
       "      <th>yhat</th>\n",
       "      <th>yhat_baseline</th>\n",
       "      <th>residual</th>\n",
       "      <th>residual_baseline</th>\n",
       "      <th>residual^2</th>\n",
       "      <th>residual_baseline^2</th>\n",
       "    </tr>\n",
       "  </thead>\n",
       "  <tbody>\n",
       "    <tr>\n",
       "      <th>666455</th>\n",
       "      <td>3</td>\n",
       "      <td>3.0</td>\n",
       "      <td>1620</td>\n",
       "      <td>241434</td>\n",
       "      <td>1989</td>\n",
       "      <td>2251.46</td>\n",
       "      <td>6059</td>\n",
       "      <td>264248.479798</td>\n",
       "      <td>261827.410386</td>\n",
       "      <td>-22814.479798</td>\n",
       "      <td>-20393.410386</td>\n",
       "      <td>5.205005e+08</td>\n",
       "      <td>4.158912e+08</td>\n",
       "    </tr>\n",
       "    <tr>\n",
       "      <th>1783637</th>\n",
       "      <td>3</td>\n",
       "      <td>1.0</td>\n",
       "      <td>1557</td>\n",
       "      <td>280212</td>\n",
       "      <td>1948</td>\n",
       "      <td>4274.29</td>\n",
       "      <td>6037</td>\n",
       "      <td>260075.615063</td>\n",
       "      <td>261827.410386</td>\n",
       "      <td>20136.384937</td>\n",
       "      <td>18384.589614</td>\n",
       "      <td>4.054740e+08</td>\n",
       "      <td>3.379931e+08</td>\n",
       "    </tr>\n",
       "    <tr>\n",
       "      <th>1250454</th>\n",
       "      <td>3</td>\n",
       "      <td>2.0</td>\n",
       "      <td>1512</td>\n",
       "      <td>335993</td>\n",
       "      <td>1965</td>\n",
       "      <td>4238.40</td>\n",
       "      <td>6037</td>\n",
       "      <td>257094.997395</td>\n",
       "      <td>261827.410386</td>\n",
       "      <td>78898.002605</td>\n",
       "      <td>74165.589614</td>\n",
       "      <td>6.224895e+09</td>\n",
       "      <td>5.500535e+09</td>\n",
       "    </tr>\n",
       "  </tbody>\n",
       "</table>\n",
       "</div>"
      ],
      "text/plain": [
       "         bed_rooms  bath_rooms  finished_sqft  tax_val_dollar_count  \\\n",
       "666455           3         3.0           1620                241434   \n",
       "1783637          3         1.0           1557                280212   \n",
       "1250454          3         2.0           1512                335993   \n",
       "\n",
       "         year_built  tax_amt  fips           yhat  yhat_baseline  \\\n",
       "666455         1989  2251.46  6059  264248.479798  261827.410386   \n",
       "1783637        1948  4274.29  6037  260075.615063  261827.410386   \n",
       "1250454        1965  4238.40  6037  257094.997395  261827.410386   \n",
       "\n",
       "             residual  residual_baseline    residual^2  residual_baseline^2  \n",
       "666455  -22814.479798      -20393.410386  5.205005e+08         4.158912e+08  \n",
       "1783637  20136.384937       18384.589614  4.054740e+08         3.379931e+08  \n",
       "1250454  78898.002605       74165.589614  6.224895e+09         5.500535e+09  "
      ]
     },
     "execution_count": 15,
     "metadata": {},
     "output_type": "execute_result"
    }
   ],
   "source": [
    "# square each residual value\n",
    "train['residual^2'] = train.residual ** 2\n",
    "\n",
    "train['residual_baseline^2'] = train.residual_baseline ** 2\n",
    "\n",
    "train.head(3)\n"
   ]
  },
  {
   "cell_type": "code",
   "execution_count": 16,
   "id": "53132181",
   "metadata": {},
   "outputs": [
    {
     "name": "stdout",
     "output_type": "stream",
     "text": [
      "SSE =  1.5356059770559164e+16\n",
      "SSE - baseline =  1.6660989878545426e+16\n"
     ]
    }
   ],
   "source": [
    "# SSE\n",
    "SSE = sum(train['residual^2'])\n",
    "SSE_baseline = sum(train['residual_baseline^2'])\n",
    "\n",
    "print(\"SSE = \", SSE)\n",
    "print(\"SSE - baseline = \", SSE_baseline)\n"
   ]
  },
  {
   "cell_type": "code",
   "execution_count": null,
   "id": "1608946b",
   "metadata": {},
   "outputs": [],
   "source": []
  },
  {
   "cell_type": "code",
   "execution_count": 17,
   "id": "76318bc3",
   "metadata": {},
   "outputs": [
    {
     "name": "stdout",
     "output_type": "stream",
     "text": [
      "MSE =  17087426136.40418\n",
      "MSE baseline =  18539484617.977364\n"
     ]
    }
   ],
   "source": [
    "MSE = SSE/len(train)\n",
    "MSE_baseline = SSE_baseline/len(train)\n",
    "\n",
    "print(\"MSE = \", MSE)\n",
    "print(\"MSE baseline = \", MSE_baseline)\n"
   ]
  },
  {
   "cell_type": "code",
   "execution_count": 18,
   "id": "da3693a6",
   "metadata": {},
   "outputs": [],
   "source": [
    "from sklearn.metrics import mean_squared_error"
   ]
  },
  {
   "cell_type": "code",
   "execution_count": 19,
   "id": "53ad3ccf",
   "metadata": {},
   "outputs": [],
   "source": [
    "MSE2_baseline = mean_squared_error(y_train, train.yhat_baseline)\n",
    "MSE2 = mean_squared_error(y_train, train.yhat)"
   ]
  },
  {
   "cell_type": "code",
   "execution_count": 20,
   "id": "16bb3c91",
   "metadata": {},
   "outputs": [
    {
     "name": "stdout",
     "output_type": "stream",
     "text": [
      "17087426136.40312\n",
      "18539484617.97503\n"
     ]
    }
   ],
   "source": [
    "print(MSE2)\n",
    "print(MSE2_baseline)"
   ]
  },
  {
   "cell_type": "code",
   "execution_count": 21,
   "id": "9d1d7e10",
   "metadata": {},
   "outputs": [
    {
     "name": "stdout",
     "output_type": "stream",
     "text": [
      "RMSE =  130718.88209590908\n",
      "RMSE baseline =  136159.77606465635\n"
     ]
    }
   ],
   "source": [
    "from math import sqrt\n",
    "RMSE = sqrt(MSE)\n",
    "RMSE_baseline = sqrt(MSE_baseline)\n",
    "\n",
    "print(\"RMSE = \", RMSE)\n",
    "print(\"RMSE baseline = \", RMSE_baseline)\n"
   ]
  },
  {
   "cell_type": "code",
   "execution_count": 22,
   "id": "af8b86a5",
   "metadata": {},
   "outputs": [
    {
     "name": "stdout",
     "output_type": "stream",
     "text": [
      "  metric   model_error\n",
      "0    SSE  1.535606e+16\n",
      "1    MSE  1.708743e+10\n",
      "2   RMSE  1.307189e+05\n",
      "          metric   model_error\n",
      "0   SSE_baseline  1.666099e+16\n",
      "1   MSE_baseline  1.853948e+10\n",
      "2  RMSE_baseline  1.361598e+05\n"
     ]
    }
   ],
   "source": [
    "df_eval = pd.DataFrame(np.array(['SSE','MSE','RMSE']), columns=['metric'])\n",
    "df_baseline_eval = pd.DataFrame(np.array(['SSE_baseline','MSE_baseline','RMSE_baseline']), columns=['metric'])\n",
    "\n",
    "df_eval['model_error'] = np.array([SSE, MSE, RMSE])\n",
    "df_baseline_eval['model_error'] = np.array([SSE_baseline, MSE_baseline, RMSE_baseline])\n",
    "\n",
    "print(df_eval)\n",
    "print(df_baseline_eval)\n"
   ]
  },
  {
   "cell_type": "code",
   "execution_count": 23,
   "id": "28fa66cf",
   "metadata": {},
   "outputs": [
    {
     "data": {
      "text/html": [
       "<div>\n",
       "<style scoped>\n",
       "    .dataframe tbody tr th:only-of-type {\n",
       "        vertical-align: middle;\n",
       "    }\n",
       "\n",
       "    .dataframe tbody tr th {\n",
       "        vertical-align: top;\n",
       "    }\n",
       "\n",
       "    .dataframe thead th {\n",
       "        text-align: right;\n",
       "    }\n",
       "</style>\n",
       "<table border=\"1\" class=\"dataframe\">\n",
       "  <thead>\n",
       "    <tr style=\"text-align: right;\">\n",
       "      <th></th>\n",
       "      <th>metric</th>\n",
       "      <th>model_error</th>\n",
       "      <th>error_delta</th>\n",
       "    </tr>\n",
       "  </thead>\n",
       "  <tbody>\n",
       "    <tr>\n",
       "      <th>0</th>\n",
       "      <td>SSE</td>\n",
       "      <td>1.535606e+16</td>\n",
       "      <td>-1.304930e+15</td>\n",
       "    </tr>\n",
       "    <tr>\n",
       "      <th>1</th>\n",
       "      <td>MSE</td>\n",
       "      <td>1.708743e+10</td>\n",
       "      <td>-1.452058e+09</td>\n",
       "    </tr>\n",
       "    <tr>\n",
       "      <th>2</th>\n",
       "      <td>RMSE</td>\n",
       "      <td>1.307189e+05</td>\n",
       "      <td>-5.440894e+03</td>\n",
       "    </tr>\n",
       "  </tbody>\n",
       "</table>\n",
       "</div>"
      ],
      "text/plain": [
       "  metric   model_error   error_delta\n",
       "0    SSE  1.535606e+16 -1.304930e+15\n",
       "1    MSE  1.708743e+10 -1.452058e+09\n",
       "2   RMSE  1.307189e+05 -5.440894e+03"
      ]
     },
     "execution_count": 23,
     "metadata": {},
     "output_type": "execute_result"
    }
   ],
   "source": [
    "df_eval['error_delta'] = df_eval.model_error - df_baseline_eval.model_error\n",
    "df_eval\n"
   ]
  },
  {
   "cell_type": "code",
   "execution_count": 24,
   "id": "9abec152",
   "metadata": {},
   "outputs": [],
   "source": [
    "TSS = SSE_baseline"
   ]
  },
  {
   "cell_type": "code",
   "execution_count": 25,
   "id": "05e6ff24",
   "metadata": {},
   "outputs": [
    {
     "data": {
      "text/plain": [
       "1304930107986262.0"
      ]
     },
     "execution_count": 25,
     "metadata": {},
     "output_type": "execute_result"
    }
   ],
   "source": [
    "ESS = TSS - SSE\n",
    "ESS"
   ]
  },
  {
   "cell_type": "code",
   "execution_count": 26,
   "id": "bc70e623",
   "metadata": {},
   "outputs": [
    {
     "data": {
      "text/plain": [
       "0.07832248368787724"
      ]
     },
     "execution_count": 26,
     "metadata": {},
     "output_type": "execute_result"
    }
   ],
   "source": [
    "R2 = ESS/TSS\n",
    "R2"
   ]
  },
  {
   "cell_type": "code",
   "execution_count": 27,
   "id": "c1553775",
   "metadata": {},
   "outputs": [],
   "source": [
    "def good_model(SSE, SSE_baseline):\n",
    "    if SSE < SSE_baseline:\n",
    "        print('better than baseline')\n",
    "    else:\n",
    "        print('not better than baseline')"
   ]
  },
  {
   "cell_type": "code",
   "execution_count": null,
   "id": "e911c42c",
   "metadata": {},
   "outputs": [],
   "source": []
  }
 ],
 "metadata": {
  "kernelspec": {
   "display_name": "Python 3 (ipykernel)",
   "language": "python",
   "name": "python3"
  },
  "language_info": {
   "codemirror_mode": {
    "name": "ipython",
    "version": 3
   },
   "file_extension": ".py",
   "mimetype": "text/x-python",
   "name": "python",
   "nbconvert_exporter": "python",
   "pygments_lexer": "ipython3",
   "version": "3.9.12"
  }
 },
 "nbformat": 4,
 "nbformat_minor": 5
}
